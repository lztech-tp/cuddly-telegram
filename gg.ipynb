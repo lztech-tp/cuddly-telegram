{
 "cells": [
  {
   "cell_type": "code",
   "execution_count": 1,
   "metadata": {},
   "outputs": [],
   "source": [
    "import os\n",
    "#os.environ[\"VIRTUAL_ENV\"] = \"./lowescraper_env\" # path to the selected virtual environment, currently have .venv and lowescraper_env\n",
    "os.environ[\"VIRTUAL_ENV\"] = \"./.venv\" # path to the selected virtual environment, currently have .venv and lowescraper_env\n",
    "os.environ[\"PATH\"] = os.environ[\"VIRTUAL_ENV\"] + \"/bin:\" + os.environ[\"PATH\"]"
   ]
  },
  {
   "cell_type": "code",
   "execution_count": 3,
   "metadata": {},
   "outputs": [
    {
     "name": "stdout",
     "output_type": "stream",
     "text": [
      "Requirement already satisfied: requests in ./.venv/lib/python3.9/site-packages (2.28.2)\n",
      "Requirement already satisfied: beautifulsoup4 in ./.venv/lib/python3.9/site-packages (4.12.2)\n",
      "Requirement already satisfied: pandas in ./.venv/lib/python3.9/site-packages (2.0.0)\n",
      "Collecting googlesearch-python\n",
      "  Downloading googlesearch-python-1.2.3.tar.gz (3.9 kB)\n",
      "  Installing build dependencies ... \u001b[?25ldone\n",
      "\u001b[?25h  Getting requirements to build wheel ... \u001b[?25ldone\n",
      "\u001b[?25h  Preparing metadata (pyproject.toml) ... \u001b[?25ldone\n",
      "\u001b[?25hRequirement already satisfied: charset-normalizer<4,>=2 in ./.venv/lib/python3.9/site-packages (from requests) (3.1.0)\n",
      "Requirement already satisfied: idna<4,>=2.5 in ./.venv/lib/python3.9/site-packages (from requests) (3.4)\n",
      "Requirement already satisfied: urllib3<1.27,>=1.21.1 in ./.venv/lib/python3.9/site-packages (from requests) (1.26.15)\n",
      "Requirement already satisfied: certifi>=2017.4.17 in ./.venv/lib/python3.9/site-packages (from requests) (2022.12.7)\n",
      "Requirement already satisfied: soupsieve>1.2 in ./.venv/lib/python3.9/site-packages (from beautifulsoup4) (2.4.1)\n",
      "Requirement already satisfied: python-dateutil>=2.8.2 in ./.venv/lib/python3.9/site-packages (from pandas) (2.8.2)\n",
      "Requirement already satisfied: pytz>=2020.1 in ./.venv/lib/python3.9/site-packages (from pandas) (2023.3)\n",
      "Requirement already satisfied: tzdata>=2022.1 in ./.venv/lib/python3.9/site-packages (from pandas) (2023.3)\n",
      "Requirement already satisfied: numpy>=1.20.3 in ./.venv/lib/python3.9/site-packages (from pandas) (1.24.2)\n",
      "Requirement already satisfied: six>=1.5 in ./.venv/lib/python3.9/site-packages (from python-dateutil>=2.8.2->pandas) (1.16.0)\n",
      "Building wheels for collected packages: googlesearch-python\n",
      "  Building wheel for googlesearch-python (pyproject.toml) ... \u001b[?25ldone\n",
      "\u001b[?25h  Created wheel for googlesearch-python: filename=googlesearch_python-1.2.3-py3-none-any.whl size=4212 sha256=5fdf72cb7acb9e190899c8ecdf1a2093afb2bd27f334a492ea763d72b12694d3\n",
      "  Stored in directory: /Users/zz/Library/Caches/pip/wheels/be/78/a3/d80e85ac9551489cd9c44f59a0bc5972e79e680ce9cc6055ca\n",
      "Successfully built googlesearch-python\n",
      "Installing collected packages: googlesearch-python\n",
      "Successfully installed googlesearch-python-1.2.3\n",
      "Note: you may need to restart the kernel to use updated packages.\n"
     ]
    }
   ],
   "source": [
    "%pip install requests beautifulsoup4 pandas googlesearch-python"
   ]
  },
  {
   "cell_type": "code",
   "execution_count": 7,
   "metadata": {},
   "outputs": [],
   "source": [
    "import requests\n",
    "from bs4 import BeautifulSoup\n",
    "from googlesearch import search\n",
    "import re\n",
    "import csv"
   ]
  },
  {
   "cell_type": "code",
   "execution_count": 8,
   "metadata": {},
   "outputs": [],
   "source": [
    "def google_search(query, num_results=10):\n",
    "    urls = []\n",
    "    try:\n",
    "        for url in search(query, num_results=num_results):\n",
    "            urls.append(url)\n",
    "    except Exception as e:\n",
    "        print(e)\n",
    "    return urls"
   ]
  },
  {
   "cell_type": "code",
   "execution_count": 9,
   "metadata": {},
   "outputs": [],
   "source": [
    "def extract_prices(url):\n",
    "    headers = {\n",
    "        'User-Agent': 'Mozilla/5.0 (Windows NT 10.0; Win64; x64) AppleWebKit/537.36 (KHTML, like Gecko) Chrome/58.0.3029.110 Safari/537.36'}\n",
    "    r = requests.get(url, headers=headers)\n",
    "    soup = BeautifulSoup(r.content, 'html.parser')\n",
    "\n",
    "    price_regex = re.compile(r'(\\$\\d+(?:\\.\\d{2})?)')\n",
    "    prices = []\n",
    "\n",
    "    for match in price_regex.finditer(soup.text):\n",
    "        prices.append(match.group(1))\n",
    "\n",
    "    return prices"
   ]
  },
  {
   "cell_type": "code",
   "execution_count": 10,
   "metadata": {},
   "outputs": [],
   "source": [
    "def main():\n",
    "    query = 'Samsung French Door Refrigerator'\n",
    "    num_results = 2\n",
    "    urls = google_search(query, num_results=num_results)\n",
    "    product_prices = []\n",
    "\n",
    "    for url in urls:\n",
    "        try:\n",
    "            prices = extract_prices(url)\n",
    "            if prices:\n",
    "                product_prices.extend(prices)\n",
    "        except:\n",
    "            continue\n",
    "\n",
    "    with open('product_prices.csv', 'w', newline='', encoding='utf-8') as f:\n",
    "        writer = csv.writer(f)\n",
    "        writer.writerow(['Price'])\n",
    "        for price in product_prices:\n",
    "            writer.writerow([price])\n",
    "\n",
    "if __name__ == '__main__':\n",
    "    main()\n"
   ]
  }
 ],
 "metadata": {
  "kernelspec": {
   "display_name": ".venv",
   "language": "python",
   "name": "python3"
  },
  "language_info": {
   "codemirror_mode": {
    "name": "ipython",
    "version": 3
   },
   "file_extension": ".py",
   "mimetype": "text/x-python",
   "name": "python",
   "nbconvert_exporter": "python",
   "pygments_lexer": "ipython3",
   "version": "3.9.12"
  },
  "orig_nbformat": 4
 },
 "nbformat": 4,
 "nbformat_minor": 2
}
